{
 "cells": [
  {
   "cell_type": "markdown",
   "metadata": {},
   "source": [
    "# DEGS Analysis"
   ]
  },
  {
   "cell_type": "code",
   "execution_count": null,
   "metadata": {},
   "outputs": [],
   "source": [
    "import scanpy as sc\n",
    "import pandas as pd\n",
    "import matplotlib.pyplot as plt\n",
    "import os\n",
    "import numpy as np"
   ]
  },
  {
   "cell_type": "markdown",
   "metadata": {},
   "source": [
    "### Define output path for saving CSV files"
   ]
  },
  {
   "cell_type": "code",
   "execution_count": null,
   "metadata": {},
   "outputs": [],
   "source": [
    "output_path = \".../DEGs\"\n",
    "os.makedirs(output_path, exist_ok=True)"
   ]
  },
  {
   "cell_type": "markdown",
   "metadata": {},
   "source": [
    "## Load the data"
   ]
  },
  {
   "cell_type": "code",
   "execution_count": null,
   "metadata": {},
   "outputs": [],
   "source": [
    "## Multiome Male Donor\n",
    "data = sc.read_h5ad(\"/ix/djishnu/peasena/primary_multiome/donor1_upmc/adata_aggregated_gene.leiden_updated.h5ad\")\n",
    "\n",
    "## scRNA Male Donor\n",
    "#data = sc.read_h5ad(\"/ix/djishnu/Common_Folder/Jingyu_Data/scRNA_seq/human_B_cell_scRNA_seq_230327.umap.leiden_clusters.h5ad\")\n",
    "# Plot UMAP\n",
    "sc.pl.umap(data, color=['leiden'])\n",
    "plt.show()\n"
   ]
  },
  {
   "cell_type": "markdown",
   "metadata": {},
   "source": [
    "\n",
    "### Cluster Annotations for scRNA-seq data from multiome dataset\n",
    "\n",
    "#3: GC\n",
    "\n",
    "#7: PBs"
   ]
  },
  {
   "cell_type": "code",
   "execution_count": null,
   "metadata": {},
   "outputs": [],
   "source": [
    "subset = data[data.obs['leiden'].isin(['3', '7'])] \n",
    "# Compute DEGs between leiden 7 (PB) and leiden 3 (GC)\n",
    "sc.tl.rank_genes_groups(subset, groupby='leiden', groups=['7'], reference='3', method='wilcoxon')\n",
    "# Extract relevant information from rank_genes_groups\n",
    "degs = subset.uns['rank_genes_groups']\n",
    "# Create a DataFrame \n",
    "deg_df = pd.DataFrame({\n",
    "    'genes': degs['names']['7'],  # Top genes \n",
    "    'logfoldchanges': degs['logfoldchanges']['7'],  # Log2 fold changes\n",
    "    'pvals': degs['pvals']['7'],  # p-values\n",
    "    'pvals_adj': degs['pvals_adj']['7'],  # Adjusted p-values (FDR)\n",
    "    'scores': degs['scores']['7']\n",
    "})\n",
    "\n",
    "deg_df.to_csv(\".../DEGs/GC_PB_DEGs.csv\")"
   ]
  },
  {
   "cell_type": "markdown",
   "metadata": {},
   "source": [
    "### Cluster Annotations for scRNA-seq data\n",
    "\n",
    "#1: GC\n",
    "\n",
    "#0,8: PBs"
   ]
  },
  {
   "cell_type": "code",
   "execution_count": null,
   "metadata": {},
   "outputs": [],
   "source": [
    "sc.pp.log1p(data)\n",
    "subset = data[data.obs['leiden'].isin(['1', '0', '8'])] \n",
    "# Compute DEGs between leiden [0,8] (PB) and leiden 1 (GC)\n",
    "sc.tl.rank_genes_groups(subset, groupby='leiden', groups=['0','8'], reference='1', method='wilcoxon')\n",
    "# Extract relevant information from rank_genes_groups\n",
    "# Retrieve the DEGs dictionary\n",
    "degs = subset.uns['rank_genes_groups']\n",
    "\n",
    "# Create a DataFrame for groups '0' and '8' against reference '1'\n",
    "deg_df = pd.DataFrame({\n",
    "    'genes': degs['names']['0'],  # Top genes for group '0'\n",
    "    'logfoldchanges': degs['logfoldchanges']['0'],  # Log2 fold changes for group '0'\n",
    "    'pvals': degs['pvals']['0'],  # p-values for group '0'\n",
    "    'pvals_adj': degs['pvals_adj']['0'],  # Adjusted p-values for group '0'\n",
    "    'scores': degs['scores']['0']  # Wilcoxon scores for group '0'\n",
    "})\n",
    "\n",
    "deg_df_8 = pd.DataFrame({\n",
    "    'genes': degs['names']['8'],  # Top genes for group '8'\n",
    "    'logfoldchanges': degs['logfoldchanges']['8'],  # Log2 fold changes for group '8'\n",
    "    'pvals': degs['pvals']['8'],  # p-values for group '8'\n",
    "    'pvals_adj': degs['pvals_adj']['8'],  # Adjusted p-values for group '8'\n",
    "    'scores': degs['scores']['8']  # Wilcoxon scores for group '8'\n",
    "})\n",
    "deg_df['group'] = '0'\n",
    "deg_df_8['group'] = '8'\n",
    "\n",
    "# Concatenate the DataFrames\n",
    "combined_deg_df = pd.concat([deg_df, deg_df_8], ignore_index=True)\n",
    "# Sort by 'scores' in descending order\n",
    "combined_deg_df = combined_deg_df.sort_values(by='scores', ascending=False)\n",
    "# Drop duplicates based on 'genes'\n",
    "combined_deg_df = combined_deg_df.drop_duplicates(subset='genes', keep='first')\n",
    "\n",
    "combined_deg_df.to_csv(\".../DEGs/scRNAseq_GC_PB_DEGs.csv\")"
   ]
  }
 ],
 "metadata": {
  "kernelspec": {
   "display_name": "Python 3",
   "language": "python",
   "name": "python3"
  },
  "language_info": {
   "codemirror_mode": {
    "name": "ipython",
    "version": 3
   },
   "file_extension": ".py",
   "mimetype": "text/x-python",
   "name": "python",
   "nbconvert_exporter": "python",
   "pygments_lexer": "ipython3",
   "version": "3.8.18"
  }
 },
 "nbformat": 4,
 "nbformat_minor": 2
}
