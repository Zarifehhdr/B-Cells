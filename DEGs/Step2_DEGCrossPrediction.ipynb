{
 "cells": [
  {
   "cell_type": "markdown",
   "metadata": {},
   "source": [
    "## Cross Prediction using DEGs\n"
   ]
  },
  {
   "cell_type": "code",
   "execution_count": null,
   "metadata": {},
   "outputs": [],
   "source": [
    "import pandas as pd\n",
    "from sklearn.preprocessing import StandardScaler\n",
    "from sklearn.linear_model import LogisticRegression\n",
    "from sklearn.model_selection import train_test_split\n",
    "from sklearn.metrics import roc_auc_score\n",
    "from sklearn.metrics import roc_curve\n",
    "import matplotlib.pyplot as plt"
   ]
  },
  {
   "cell_type": "markdown",
   "metadata": {},
   "source": [
    "### Train a model on DEGs from Multiome and test it on scRNA-seq"
   ]
  },
  {
   "cell_type": "code",
   "execution_count": null,
   "metadata": {},
   "outputs": [],
   "source": [
    "# x_train_DEGs is a subset of gene expression matrix of multiome which contains only DEGs in Top_Degs_GC_PB_multiome.csv\n",
    "# Available from Step1\n",
    "X = pd.read_csv(\".../x_train_DEGs.csv\", index_col=False )\n",
    "# Y_GC_PB.csv contain 0 for GC cells and 1 for PB cells in multiome dataset\n",
    "Y = pd.read_csv(\".../Y_GC_PB.csv\", index_col=False)\n",
    "Y = Y.loc[:, 'V1']\n",
    "X = X.iloc[:, 1:]"
   ]
  },
  {
   "cell_type": "code",
   "execution_count": null,
   "metadata": {},
   "outputs": [],
   "source": [
    "X_train, X_test, Y_train, Y_test = train_test_split(X, Y, test_size=0.2, random_state=42)\n",
    "\n",
    "scaler = StandardScaler()\n",
    "X_train = scaler.fit_transform(X_train)\n",
    "X_test = scaler.transform(X_test)\n",
    "lasso = LogisticRegression(penalty='l1',solver='liblinear', max_iter=10000)\n",
    "lasso.fit(X_train, Y_train)\n",
    "\n",
    "Y_pred= lasso.predict(X_test)\n",
    "\n",
    "auc = roc_auc_score(Y_test, Y_pred)\n",
    "print(f\"AUC : {auc:.2f}\")"
   ]
  },
  {
   "cell_type": "markdown",
   "metadata": {},
   "source": [
    "### Test the same model on scRNA"
   ]
  },
  {
   "cell_type": "code",
   "execution_count": null,
   "metadata": {},
   "outputs": [],
   "source": [
    "# x_test_scRNA_DEGs is a subset of gene expression matrix of scRNA-seq datset which contains only DEGs in Top_Degs_GC_PB_multiome.csv\n",
    "# Available from Step1\n",
    "X_test1 = pd.read_csv(\"/x_test_scRNA_DEGs.csv\", index_col=False)\n",
    "# Y_GC_PB.csv contain 0 for GC cells and 1 for PB cells in scRNA-seq dataset\n",
    "Y_test1 = pd.read_csv(\"...r/Y_GC_PB.csv\", index_col=False)\n",
    "\n",
    "Y_test1 = Y_test1.loc[:, 'V1']\n",
    "X_test1 = X_test1.iloc[:, 1:]\n",
    "\n",
    "X_test1 = scaler.transform(X_test1)\n",
    "Y_pred1= lasso.predict(X_test1)\n",
    "auc = roc_auc_score(Y_test1, Y_pred1)\n",
    "print(f\"AUC : {auc:.2f}\")"
   ]
  },
  {
   "cell_type": "markdown",
   "metadata": {},
   "source": [
    "#### Plotting ROC"
   ]
  },
  {
   "cell_type": "code",
   "execution_count": null,
   "metadata": {},
   "outputs": [],
   "source": [
    "# Predictions and probabilities for the first test set\n",
    "Y_pred = lasso.predict(X_test)\n",
    "fpr, tpr, _ = roc_curve(Y_test, Y_pred)\n",
    "auc1 = roc_auc_score(Y_test, Y_pred)\n",
    "\n",
    "# Predictions and probabilities for the second test set\n",
    "Y_pred1 = lasso.predict(X_test1)\n",
    "fpr1, tpr1, _ = roc_curve(Y_test1, Y_pred1)\n",
    "auc2 = roc_auc_score(Y_test1, Y_pred1)\n",
    "\n",
    "plt.figure()\n",
    "plt.plot(fpr, tpr, color='#B83636', linestyle='solid', linewidth=4, marker='o', markersize=4, alpha=0.8)\n",
    "\n",
    "plt.plot(fpr1, tpr1, color='#7BDE7B',linestyle='dotted', linewidth=4, marker='s', markersize=4, alpha=0.8)\n",
    "\n",
    "plt.plot([0, 1], [0, 1], color='gray', linestyle='--', linewidth=1)\n",
    "\n",
    "plt.xlabel('False Positive Rate')\n",
    "plt.ylabel('True Positive Rate')\n",
    "\n",
    "# output path to save the ROC plot\n",
    "out_path = '.../ROC_Train_Multiome_DEGs.svg'\n",
    "plt.savefig(out_path, format='svg')\n",
    "plt.show()"
   ]
  },
  {
   "cell_type": "markdown",
   "metadata": {},
   "source": [
    "### Train a model on scRNA-seq DEGs from  and test it on Multiome"
   ]
  },
  {
   "cell_type": "code",
   "execution_count": null,
   "metadata": {},
   "outputs": [],
   "source": [
    "# x_train_DEGs in this part of the code \n",
    "# is a subset of gene expression matrix of scRNA which contains only DEGs in Top_Degs_GC_PB_scRNA.csv\n",
    "# Available from Step1\n",
    "X = pd.read_csv(\".../x_train_DEGs.csv\", index_col=False )\n",
    "# Y_GC_PB.csv contain 0 for GC cells and 1 for PB cells in scRNA-seq dataset\n",
    "Y = pd.read_csv(\".../Y_GC_PB.csv\", index_col=False)\n",
    "Y = Y.loc[:, 'V1']\n",
    "X = X.iloc[:, 1:]"
   ]
  },
  {
   "cell_type": "code",
   "execution_count": null,
   "metadata": {},
   "outputs": [],
   "source": [
    "X_train, X_test, Y_train, Y_test = train_test_split(X, Y, test_size=0.2, random_state=42)\n",
    "\n",
    "scaler = StandardScaler()\n",
    "X_train = scaler.fit_transform(X_train)\n",
    "X_test = scaler.transform(X_test)\n",
    "lasso = LogisticRegression(penalty='l1',solver='liblinear', max_iter=10000)\n",
    "lasso.fit(X_train, Y_train)\n",
    "\n",
    "Y_pred= lasso.predict(X_test)\n",
    "\n",
    "auc = roc_auc_score(Y_test, 1-Y_pred)\n",
    "print(f\"AUC : {auc:.2f}\")"
   ]
  },
  {
   "cell_type": "markdown",
   "metadata": {},
   "source": [
    "### Test the same model on Multiome"
   ]
  },
  {
   "cell_type": "code",
   "execution_count": null,
   "metadata": {},
   "outputs": [],
   "source": [
    "# x_test_multiome_DEGs in this part of the code \n",
    "# is a subset of gene expression matrix of multiome which contains only DEGs in Top_Degs_GC_PB_scRNA.csv\n",
    "# Available from Step1\n",
    "X_test1 = pd.read_csv(\".../x_test_multiome_DEGs.csv\", index_col=False)\n",
    "# Y_GC_PB.csv contain 0 for GC cells and 1 for PB cells in multiome dataset\n",
    "Y_test1 = pd.read_csv(\".../Y_GC_PB.csv\", index_col=False)\n",
    "\n",
    "Y_test1 = Y_test1.loc[:, 'V1']\n",
    "X_test1 = X_test1.iloc[:, 1:]\n",
    "X_test1 = scaler.transform(X_test1)\n",
    "Y_pred1= lasso.predict(X_test1)\n",
    "\n",
    "auc = roc_auc_score(Y_test1, Y_pred1)\n",
    "print(f\"AUC : {auc:.2f}\")"
   ]
  },
  {
   "cell_type": "markdown",
   "metadata": {},
   "source": [
    "#### Plotting ROC"
   ]
  },
  {
   "cell_type": "code",
   "execution_count": null,
   "metadata": {},
   "outputs": [],
   "source": [
    "# Predictions and probabilities for the first test set\n",
    "Y_pred = lasso.predict(X_test)\n",
    "fpr, tpr, _ = roc_curve(Y_test, Y_pred)\n",
    "auc1 = roc_auc_score(Y_test, Y_pred)\n",
    "\n",
    "# Predictions and probabilities for the second test set\n",
    "Y_pred1 = lasso.predict(X_test1)\n",
    "fpr1, tpr1, _ = roc_curve(Y_test1, Y_pred1)\n",
    "auc2 = roc_auc_score(Y_test1, Y_pred1)\n",
    "\n",
    "plt.figure()\n",
    "plt.plot(fpr, tpr, color='#B83636', linestyle='solid', linewidth=4, marker='o', markersize=4, alpha=0.8)\n",
    "\n",
    "plt.plot(fpr1, tpr1, color='#7BDE7B',linestyle='dotted', linewidth=4, marker='s', markersize=4, alpha=0.8)\n",
    "\n",
    "plt.plot([0, 1], [0, 1], color='gray', linestyle='--', linewidth=1)\n",
    "\n",
    "plt.xlabel('False Positive Rate')\n",
    "plt.ylabel('True Positive Rate')\n",
    "\n",
    "#output path to save ROC  \n",
    "out_path = '.../ROC_Train_scRNA_DEGs.svg'\n",
    "plt.savefig(out_path, format= 'svg')\n",
    "plt.close()"
   ]
  }
 ],
 "metadata": {
  "kernelspec": {
   "display_name": "Python 3",
   "language": "python",
   "name": "python3"
  },
  "language_info": {
   "codemirror_mode": {
    "name": "ipython",
    "version": 3
   },
   "file_extension": ".py",
   "mimetype": "text/x-python",
   "name": "python",
   "nbconvert_exporter": "python",
   "pygments_lexer": "ipython3",
   "version": "3.8.18"
  }
 },
 "nbformat": 4,
 "nbformat_minor": 2
}
