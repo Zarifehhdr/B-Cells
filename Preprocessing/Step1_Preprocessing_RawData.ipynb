{
 "cells": [
  {
   "cell_type": "markdown",
   "metadata": {},
   "source": [
    "# Gene expression matrix for each B cell state"
   ]
  },
  {
   "cell_type": "code",
   "execution_count": null,
   "metadata": {},
   "outputs": [],
   "source": [
    "import scanpy as sc\n",
    "import pandas as pd\n",
    "import matplotlib.pyplot as plt\n",
    "import os"
   ]
  },
  {
   "cell_type": "markdown",
   "metadata": {},
   "source": [
    "### Define output path for saving CSV files"
   ]
  },
  {
   "cell_type": "code",
   "execution_count": null,
   "metadata": {},
   "outputs": [],
   "source": [
    "output_path = \".../Data/Raw_Data/Male_Donor\"   # multiome: Update this to your desired output directory\n",
    "#output_path = \".../Data/Raw_Data/scRNA_Male_Donor\"  # scRNA-seq: Update this to your desired output directory\n",
    "\n",
    "os.makedirs(output_path, exist_ok=True)  # Create the directory if it doesn't exist"
   ]
  },
  {
   "cell_type": "markdown",
   "metadata": {},
   "source": [
    "### Load the data"
   ]
  },
  {
   "cell_type": "code",
   "execution_count": null,
   "metadata": {},
   "outputs": [],
   "source": [
    "## Multiome Male Donor\n",
    "\n",
    "data = sc.read_h5ad(\".../adata_aggregated_gene.leiden_updated.h5ad\")  #multiome\n",
    "#data = sc.read_h5ad(\".../human_B_cell_scRNA_seq_230327.umap.leiden_clusters.h5ad\") #scRNA\n",
    "\n",
    "# Plot UMAP\n",
    "sc.pl.umap(data, color=['leiden'])\n",
    "plt.show()"
   ]
  },
  {
   "cell_type": "code",
   "execution_count": null,
   "metadata": {},
   "outputs": [],
   "source": [
    "# Define a function to extract subsets based on 'leiden' values\n",
    "def get_subset(data, leiden_values):\n",
    "    subset = data[data.obs['leiden'].isin(leiden_values)]\n",
    "    print(subset)\n",
    "    return subset"
   ]
  },
  {
   "cell_type": "markdown",
   "metadata": {},
   "source": [
    "### Male donor Multiom clusters"
   ]
  },
  {
   "cell_type": "code",
   "execution_count": null,
   "metadata": {},
   "outputs": [],
   "source": [
    "\n",
    "# Extract subsets for each category\n",
    "GC = get_subset(data, ['3'])\n",
    "PB = get_subset(data, ['7'])\n",
    "ABC_d4 = get_subset(data, ['2'])\n",
    "d0 = get_subset(data, ['5'])\n",
    "ABC_d2 = get_subset(data, ['1'])\n",
    "MBC = get_subset(data, ['6'])\n",
    "\n",
    "# Create a list of subsets for easier handling\n",
    "subsets = [GC, PB, ABC_d4, d0, ABC_d2, MBC]\n",
    "subset_names = ['GC', 'PB', 'ABC_d4', 'd0', 'ABC_d2', 'MBC']\n",
    "\n",
    "# Convert data to dense format and save as CSV\n",
    "for subset, name in zip(subsets, subset_names):\n",
    "    mtx = subset.X.toarray()\n",
    "    mtx_df = pd.DataFrame(mtx, index=subset.obs_names, columns=data.var_names)\n",
    "    mtx_df.to_csv(os.path.join(output_path, f\"{name}.csv\"), index=True)\n",
    "    print(f\"Saved {name}.csv with shape {mtx.shape}\")"
   ]
  },
  {
   "cell_type": "markdown",
   "metadata": {},
   "source": [
    "### Male donor scRNA-seq Data"
   ]
  },
  {
   "cell_type": "code",
   "execution_count": null,
   "metadata": {},
   "outputs": [],
   "source": [
    "# Extract subsets for each category\n",
    "GC = get_subset(data, ['1'])\n",
    "PB = get_subset(data, ['0', '8'])\n",
    "\n",
    "\n",
    "# Create a list of subsets for easier handling\n",
    "subsets = [GC, PB]\n",
    "subset_names = ['GC', 'PB']\n",
    "\n",
    "# Convert data to dense format and save as CSV\n",
    "for subset, name in zip(subsets, subset_names):\n",
    "    mtx = subset.X.toarray()\n",
    "    mtx_df = pd.DataFrame(mtx, index=subset.obs_names, columns=data.var_names)\n",
    "    mtx_df.to_csv(os.path.join(output_path, f\"{name}.csv\"), index=True)\n",
    "    print(f\"Saved {name}.csv with shape {mtx.shape}\")"
   ]
  }
 ],
 "metadata": {
  "kernelspec": {
   "display_name": "Python 3",
   "language": "python",
   "name": "python3"
  },
  "language_info": {
   "codemirror_mode": {
    "name": "ipython",
    "version": 3
   },
   "file_extension": ".py",
   "mimetype": "text/x-python",
   "name": "python",
   "nbconvert_exporter": "python",
   "pygments_lexer": "ipython3",
   "version": "3.8.18"
  }
 },
 "nbformat": 4,
 "nbformat_minor": 2
}
