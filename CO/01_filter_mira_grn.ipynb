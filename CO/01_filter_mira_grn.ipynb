{
 "cells": [
  {
   "cell_type": "code",
   "execution_count": 1,
   "metadata": {},
   "outputs": [],
   "source": [
    "import pandas as pd, numpy as np, pickle\n",
    "mira_grn = pd.read_csv('/ocean/projects/cis240075p/skeshari/igvf/bcell2/primaryBCell/out_data/out_other_methods/ISD/ISD_matrix.chip.tsv', sep='\\t',header = None, low_memory=False, index_col=0)\n",
    "TFdatabase = pd.read_csv('/ix/djishnu/Swapnil/CellOracle/BCell/primaryBCell/notebooks/human TF database.csv')\n",
    "TF_mira = set(mira_grn.iloc[0,0:])\n",
    "TFs_in_mira = set(TFdatabase['HGNC symbol']).intersection(TF_mira)\n",
    "TFs_in_mira.add('CD74')\n",
    "mira_grn = mira_grn.iloc[:,list(mira_grn.iloc[0,0:].isin(TFs_in_mira))]\n",
    "assert len(TFs_in_mira) == len(set(mira_grn.iloc[0,0:]))"
   ]
  },
  {
   "cell_type": "code",
   "execution_count": 4,
   "metadata": {},
   "outputs": [],
   "source": [
    "import scanpy as sc\n",
    "adata = sc.read_h5ad('/ocean/projects/cis240075p/skeshari/igvf/bcell2/primaryBCell/out_data/out_other_methods/ISD/adata_aggregated_ATAC.ISD.h5ad')"
   ]
  },
  {
   "cell_type": "code",
   "execution_count": 11,
   "metadata": {},
   "outputs": [
    {
     "data": {
      "text/plain": [
       "Index(['AAACAGCCAAAGCTAA-1', 'AAACAGCCAAGCCACT-3', 'AAACAGCCAAGGTGCA-1',\n",
       "       'AAACAGCCAAGTTATC-1', 'AAACAGCCAATAGCCC-1', 'AAACAGCCAATTATGC-2',\n",
       "       'AAACAGCCAGTTAGCC-1', 'AAACAGCCATTCAGCA-3', 'AAACATGCAAAGCGCA-1',\n",
       "       'AAACATGCAAAGCTCC-1',\n",
       "       ...\n",
       "       'TTTGTTGGTGCCTCAC-2', 'TTTGTTGGTGTTGCAA-1', 'TTTGTTGGTTAGCGTA-1',\n",
       "       'TTTGTTGGTTATCCGT-3', 'TTTGTTGGTTGACTTC-1', 'TTTGTTGGTTTACGTC-1',\n",
       "       'TTTGTTGGTTTAGTCC-1', 'TTTGTTGGTTTATGGG-2', 'TTTGTTGGTTTCCTCC-3',\n",
       "       'TTTGTTGGTTTGAGGC-2'],\n",
       "      dtype='object', length=32418)"
      ]
     },
     "execution_count": 11,
     "metadata": {},
     "output_type": "execute_result"
    }
   ],
   "source": [
    "adata.obs_names"
   ]
  },
  {
   "cell_type": "code",
   "execution_count": 6,
   "metadata": {},
   "outputs": [
    {
     "name": "stdout",
     "output_type": "stream",
     "text": [
      "1106.5751687798452\n"
     ]
    },
    {
     "data": {
      "text/plain": [
       "False"
      ]
     },
     "execution_count": 6,
     "metadata": {},
     "output_type": "execute_result"
    }
   ],
   "source": [
    "ISD_values = mira_grn.iloc[1:,:].astype(float)\n",
    "# Find threshold for the ISD values\n",
    "ISD_values_array = ISD_values.values.reshape(-1)\n",
    "threshold = np.percentile(ISD_values_array, 50)\n",
    "ISD_values = (ISD_values > threshold).astype(int).T\n",
    "print(ISD_values.sum(axis=1).mean())\n",
    "ISD_values['TFs'] = mira_grn.iloc[0,0:]\n",
    "ISD_values = ISD_values.groupby('TFs').sum().T\n",
    "TF_dictionary = {col: ISD_values.index[ISD_values[col] != 0].tolist() for col in ISD_values.columns}\n",
    "TF_perturb_list = set([\"BATF\",\"BATF3\",\"BCL6\",\"EGR1\",\"FOS\",\"IKZF1\",\"IRF1\",\"IRF4\",\"IRF8\",\"JUNB\",\"JUND\",\"MEF2A\",\"MEF2C\",\"MYB\",\"NFATC1\",\"NTC1\",\"NFATC2\",\"NFIL3\",\"NFKB1\",\"NFKB2\",\"PAX5\",\"PRDM1\",\"RUNX1\",\"SP3\",\"SPI1\",\"STAT1\",\"STAT5A\",\"TCF12\",\"VDR\",\"XBP1\",\"ZBTB7A\",\"SPIB\"])\n",
    "TF_perturb_list.issubset(set(TF_dictionary.keys()))\n"
   ]
  },
  {
   "cell_type": "code",
   "execution_count": 6,
   "metadata": {},
   "outputs": [
    {
     "data": {
      "text/plain": [
       "1214.599860659545"
      ]
     },
     "execution_count": 6,
     "metadata": {},
     "output_type": "execute_result"
    }
   ],
   "source": [
    "with open('../out_data/TF_dict_MIRA_85pct.pkl', 'wb') as f:\n",
    "    pickle.dump(TF_dictionary, f)"
   ]
  }
 ],
 "metadata": {
  "kernelspec": {
   "display_name": "Python 3",
   "language": "python",
   "name": "python3"
  },
  "language_info": {
   "codemirror_mode": {
    "name": "ipython",
    "version": 3
   },
   "file_extension": ".py",
   "mimetype": "text/x-python",
   "name": "python",
   "nbconvert_exporter": "python",
   "pygments_lexer": "ipython3",
   "version": "3.8.19"
  }
 },
 "nbformat": 4,
 "nbformat_minor": 2
}
